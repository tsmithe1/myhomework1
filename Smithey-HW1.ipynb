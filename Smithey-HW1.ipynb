{
 "cells": [
  {
   "cell_type": "code",
   "execution_count": 141,
   "metadata": {},
   "outputs": [],
   "source": [
    "# Data Analysis Bootcamp, HW 1, Thomas Smithey \n",
    "\n",
    "# Read Algebra Grade Data From Dataset\n",
    "\n",
    "import pandas as pd\n",
    "\n",
    "Location = \"datasets/algebradata.csv\"\n",
    "df = pd.read_csv(Location)"
   ]
  },
  {
   "cell_type": "code",
   "execution_count": 142,
   "metadata": {},
   "outputs": [],
   "source": [
    "# Create a Function To Assign a Number To Letter Grade\n",
    "\n",
    "def ltrgrade_to_number(x):\n",
    "    if x=='A':\n",
    "        return 4\n",
    "    if x=='B':\n",
    "        return 3\n",
    "    if x=='C':\n",
    "        return 2\n",
    "    if x=='D':\n",
    "        return 1\n",
    "    if x=='F':\n",
    "        return 0\n",
    "df['num_grade'] = df['Grade'].apply(ltrgrade_to_number)"
   ]
  },
  {
   "cell_type": "code",
   "execution_count": 143,
   "metadata": {},
   "outputs": [],
   "source": [
    "# Creat Function To Assign Number To Gender\n",
    "\n",
    "def gender_to_number(x):\n",
    "    if x=='F':\n",
    "        return 1\n",
    "    if x=='M':\n",
    "        return 0\n",
    "df['num_gender'] = df['Gender'].apply(gender_to_number)"
   ]
  },
  {
   "cell_type": "code",
   "execution_count": 149,
   "metadata": {},
   "outputs": [],
   "source": [
    "# Compute Number of Students\n",
    "\n",
    "numstud = df['num_gender'].count()\n",
    "# print \"The Total number of students is\", numstud"
   ]
  },
  {
   "cell_type": "code",
   "execution_count": 150,
   "metadata": {},
   "outputs": [],
   "source": [
    "# Compute the number of students with a passing grade\n",
    "# Assumes that grade D and above is Passing and Grade F is failing\n",
    "numpass = df[(df['num_grade']>0)]['Grade'].count()\n",
    "# print \"The total number of students with a passing grade is\", numpass"
   ]
  },
  {
   "cell_type": "code",
   "execution_count": 155,
   "metadata": {},
   "outputs": [
    {
     "name": "stdout",
     "output_type": "stream",
     "text": [
      "Answer a) The percentage of students with a passing grade is  91.69 %\n"
     ]
    }
   ],
   "source": [
    "# Compute the percentage of students with a passing grade\n",
    "l = float(numstud)\n",
    "m = float(numpass)\n",
    "passpct = (m/l)*100\n",
    "print \"Answer a) The percentage of students with a passing grade is \", (\"%.2f\" % passpct), \"%\""
   ]
  },
  {
   "cell_type": "code",
   "execution_count": 148,
   "metadata": {},
   "outputs": [],
   "source": [
    "# Compute Number of Women\n",
    "wnum = df[(df['num_gender']==1)]['num_gender'].count()\n",
    "# print \"The number of women in the class is \", wnum"
   ]
  },
  {
   "cell_type": "code",
   "execution_count": 153,
   "metadata": {},
   "outputs": [],
   "source": [
    "# Compute the number of women with a passing grade\n",
    "wpass = (df[(df['num_gender']==1) & (df['num_grade']>0)]['Grade'].count())\n",
    "# print \"The number of women with a passing grade is \", wpass"
   ]
  },
  {
   "cell_type": "code",
   "execution_count": 156,
   "metadata": {},
   "outputs": [
    {
     "name": "stdout",
     "output_type": "stream",
     "text": [
      "Answer b)The percentage of women with a passing grade is  95.37 %\n"
     ]
    }
   ],
   "source": [
    "# Compute the percentage of women with a passing grade\n",
    "a=float(wpass)\n",
    "b=float(wnum)\n",
    "c=(a/b)*100\n",
    "print \"Answer b) The percentage of women with a passing grade is \", (\"%.2f\" % c), \"%\""
   ]
  },
  {
   "cell_type": "code",
   "execution_count": 157,
   "metadata": {},
   "outputs": [
    {
     "name": "stdout",
     "output_type": "stream",
     "text": [
      "Answer c) The average number of hours studying for all students: 15.12 hrs\n"
     ]
    }
   ],
   "source": [
    "avghrs = df['Hours of Study'].mean()\n",
    "print \"Answer c) The average number of hours studying for all students:\", (\"%.2f\" % avghrs), \"hrs\""
   ]
  },
  {
   "cell_type": "code",
   "execution_count": 161,
   "metadata": {},
   "outputs": [],
   "source": [
    "# Create a Function To Create a Row Pass / Fail Row\n",
    "def pass_to_fail(x):\n",
    "    if x>0:\n",
    "        return 1\n",
    "    if x==0:\n",
    "        return 0\n",
    "df['Pass'] = df['num_grade'].apply(pass_to_fail)"
   ]
  },
  {
   "cell_type": "code",
   "execution_count": 162,
   "metadata": {},
   "outputs": [
    {
     "name": "stdout",
     "output_type": "stream",
     "text": [
      "Answer d) The average number of hours studying for all students with a passing grade: 15.88 hrs\n"
     ]
    }
   ],
   "source": [
    "avghrspass = df.loc[df['Pass']==1]['Hours of Study'].mean()\n",
    "print \"Answer d) The average number of hours studying for all students with a passing grade:\", (\"%.2f\" % avghrspass), \"hrs\""
   ]
  }
 ],
 "metadata": {
  "kernelspec": {
   "display_name": "Python 2",
   "language": "python",
   "name": "python2"
  },
  "language_info": {
   "codemirror_mode": {
    "name": "ipython",
    "version": 2
   },
   "file_extension": ".py",
   "mimetype": "text/x-python",
   "name": "python",
   "nbconvert_exporter": "python",
   "pygments_lexer": "ipython2",
   "version": "2.7.13"
  }
 },
 "nbformat": 4,
 "nbformat_minor": 2
}
